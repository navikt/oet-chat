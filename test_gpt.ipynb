{
 "cells": [
  {
   "cell_type": "code",
   "execution_count": 1,
   "metadata": {
    "collapsed": true
   },
   "outputs": [
    {
     "name": "stderr",
     "output_type": "stream",
     "text": [
      "/Users/fridtjofalestrom/ProjectsNav/oet-chat/venv/lib/python3.9/site-packages/urllib3/__init__.py:34: NotOpenSSLWarning: urllib3 v2 only supports OpenSSL 1.1.1+, currently the 'ssl' module is compiled with 'LibreSSL 2.8.3'. See: https://github.com/urllib3/urllib3/issues/3020\n",
      "  warnings.warn(\n"
     ]
    }
   ],
   "source": [
    "import model"
   ]
  },
  {
   "cell_type": "code",
   "execution_count": 16,
   "outputs": [],
   "source": [
    "system_content= '''Follow these instructions:\n",
    "1) Answer question given from the user.\n",
    "2) only give answers based on the context.\n",
    "3) do not give answers based on your own knowledge.\n",
    "4) stick to new norwegian.\n",
    "'''\n",
    "\n",
    "assistant_content='''Krav til dokumentasjon\n",
    "Det er same krava til dokumentasjon om vi får tilsendt faktura eller ber om refusjon av utlegg.\n",
    "\n",
    "Dette skal du dokumentere for bevertning:\n",
    "\n",
    "Formålet med bevertninga.\n",
    "\n",
    "Start og sluttidspunkt på arrangementet.\n",
    "\n",
    "Namnet på verksemda som personen representerer.\n",
    "\n",
    "Tal personar og namnet på personane bevertninga omfattar. Leggast ved i eye-share eller på utlegget.\n",
    "\n",
    "Dette skal du dokumentere for representasjon:\n",
    "\n",
    "For representasjon skal vurderinga om arrangementet er å rekne som representasjon leggast ved saka.\n",
    "\n",
    "Alkohol\n",
    "Alkoholholdig drikke vert berre dekka ved servering av mat. Kostnaden til drikke, både med og utan alkohol, er inkludert i satsane for bevertning. Det skal visast måtehald i tal alkoholeiningar som blir servert.\n",
    "\n",
    "Tips\n",
    "Det skal ikkje gjevast tips for staten si rekning. Ønskjer den enkelte å gje tips, må det dekkast privat.\n",
    "\n",
    "Unntak kan vere i samband med representasjon i land der det er vanleg med nøkternt tips eller fast påslag på rekninga.'''\n",
    "\n",
    "question = 'jeg skal legge ut for mat, skal jeg sende refusjon eller be om faktura?'"
   ],
   "metadata": {
    "collapsed": false
   }
  },
  {
   "cell_type": "code",
   "execution_count": 17,
   "outputs": [
    {
     "data": {
      "text/plain": "'Det kommer an på situasjonen. Om du betaler for maten på vegne av bedriften og forventer å få tilbakebetalt utlegget, skal du sende inn en refusjonsforespørsel med nødvendig dokumentasjon. Men om maten bestilles direkte fra en leverandør til bedriften, er det mest vanlig å be om en faktura som bedriften betaler direkte.'"
     },
     "execution_count": 17,
     "metadata": {},
     "output_type": "execute_result"
    }
   ],
   "source": [
    "model.ask_gpt(question, system_content, assistant_content)"
   ],
   "metadata": {
    "collapsed": false
   }
  },
  {
   "cell_type": "code",
   "execution_count": 3,
   "outputs": [],
   "source": [],
   "metadata": {
    "collapsed": false
   }
  }
 ],
 "metadata": {
  "kernelspec": {
   "display_name": "Python 3",
   "language": "python",
   "name": "python3"
  },
  "language_info": {
   "codemirror_mode": {
    "name": "ipython",
    "version": 2
   },
   "file_extension": ".py",
   "mimetype": "text/x-python",
   "name": "python",
   "nbconvert_exporter": "python",
   "pygments_lexer": "ipython2",
   "version": "2.7.6"
  }
 },
 "nbformat": 4,
 "nbformat_minor": 0
}
